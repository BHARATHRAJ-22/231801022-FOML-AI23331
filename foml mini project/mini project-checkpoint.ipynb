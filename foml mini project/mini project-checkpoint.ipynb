{
 "cells": [
  {
   "cell_type": "code",
   "execution_count": 13,
   "id": "ea5e03ad-d70c-472a-ad4d-450d50fdbe1f",
   "metadata": {},
   "outputs": [
    {
     "name": "stdout",
     "output_type": "stream",
     "text": [
      "Root Mean Squared Error (RMSE): 0.5365647466228096\n",
      "The predicted GPA is 2.92\n"
     ]
    }
   ],
   "source": [
    "import numpy as np\n",
    "import pandas as pd\n",
    "from sklearn.linear_model import LinearRegression\n",
    "from sklearn.model_selection import train_test_split\n",
    "from sklearn.preprocessing import StandardScaler\n",
    "from sklearn import metrics\n",
    "\n",
    "# Load data from the CSV file\n",
    "df_students = pd.read_csv(r\"C:\\Users\\bharath\\Downloads\\student_performance_data.csv\")\n",
    "\n",
    "# Define the independent variables (features) and dependent variable (target)\n",
    "x = df_students[['StudyHoursPerWeek', 'AttendanceRate']]  # Features\n",
    "y = df_students['GPA']  # Target variable (GPA)\n",
    "\n",
    "# Standardize the features (scaling both study hours and attendance rate)\n",
    "scaler = StandardScaler()\n",
    "x_scaled = scaler.fit_transform(x)\n",
    "\n",
    "# Split the dataset into training and testing sets (80% training, 20% testing)\n",
    "X_train, X_test, y_train, y_test = train_test_split(x_scaled, y, test_size=0.2, random_state=0)\n",
    "\n",
    "# Create and train the model\n",
    "regr = LinearRegression()\n",
    "regr.fit(X_train, y_train)\n",
    "\n",
    "# Evaluate the model using Root Mean Squared Error (RMSE)\n",
    "predictedGPA = regr.predict(X_test)\n",
    "rmse = np.sqrt(metrics.mean_squared_error(y_test, predictedGPA))\n",
    "print(f\"Root Mean Squared Error (RMSE): {rmse}\")\n",
    "\n",
    "# Making predictions for new input (Example: Study Hours = 40, Attendance Rate = 93)\n",
    "# Create a DataFrame with the same column names as the original dataset\n",
    "input_data = pd.DataFrame([[10, 10]], columns=['StudyHoursPerWeek', 'AttendanceRate'])  # Add column names\n",
    "input_scaled = scaler.transform(input_data)  # Scale the input using the same scaler\n",
    "predicted_GPA = regr.predict(input_scaled)  # Predict the GPA\n",
    "\n",
    "# Print the result\n",
    "print(f\"The predicted GPA is {predicted_GPA[0]:.2f}\")\n"
   ]
  },
  {
   "cell_type": "code",
   "execution_count": null,
   "id": "8c1aa3a0-b081-4900-850c-1509164a4dcc",
   "metadata": {},
   "outputs": [],
   "source": []
  }
 ],
 "metadata": {
  "kernelspec": {
   "display_name": "Python 3 (ipykernel)",
   "language": "python",
   "name": "python3"
  },
  "language_info": {
   "codemirror_mode": {
    "name": "ipython",
    "version": 3
   },
   "file_extension": ".py",
   "mimetype": "text/x-python",
   "name": "python",
   "nbconvert_exporter": "python",
   "pygments_lexer": "ipython3",
   "version": "3.12.4"
  }
 },
 "nbformat": 4,
 "nbformat_minor": 5
}
